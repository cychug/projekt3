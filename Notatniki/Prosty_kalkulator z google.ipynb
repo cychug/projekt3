{
  "nbformat": 4,
  "nbformat_minor": 0,
  "metadata": {
    "colab": {
      "name": "Prosty kalkulator.ipynb",
      "provenance": [],
      "collapsed_sections": [],
      "authorship_tag": "ABX9TyN9ZWWAoOuM+KAi2d+GZPsA",
      "include_colab_link": true
    },
    "kernelspec": {
      "name": "python3",
      "display_name": "Python 3"
    }
  },
  "cells": [
    {
      "cell_type": "markdown",
      "metadata": {
        "id": "view-in-github",
        "colab_type": "text"
      },
      "source": [
        "<a href=\"https://colab.research.google.com/github/cychug/projekt1/blob/master/Prosty_kalkulator%20z%20google.ipynb\" target=\"_parent\"><img src=\"https://colab.research.google.com/assets/colab-badge.svg\" alt=\"Open In Colab\"/></a>"
      ]
    },
    {
      "cell_type": "code",
      "metadata": {
        "id": "dTqwEw3Wt6MF",
        "outputId": "e9c34aef-e297-4a57-d43e-d9776e4050b3",
        "colab": {
          "base_uri": "https://localhost:8080/"
        }
      },
      "source": [
        "print(\"KALKULATOR KTÓRY TYLKO DODAJE\")\n",
        "a = int(input(\"Podaj pierwszą liczbę: \"))       # rzutowanie - zmiana typu z jednego na drugi, w tym przypadku\n",
        "b = int(input(\"Podaj DRUGĄ liczbę: \"))          # że wprowadzamy liczbę b = int(input())\n",
        "\n",
        "print(\"Wynik dodawania: \" + str(a + b))         # tu jest rzutowanie czyli mówimy, że\n",
        "print(\"Wynik dodawania:\", a + b)                # tu jeszcze bardziej uprościłem wstawiając przecinek. Dodakowo pojawi się też spacja\n",
        "print(\"Wynik dodawania\", a, \"+\", b, \"=\", a + b)"
      ],
      "execution_count": 1,
      "outputs": [
        {
          "output_type": "stream",
          "text": [
            "KALKULATOR KTÓRY TYLKO DODAJE\n",
            "Podaj pierwszą liczbę: 100\n",
            "Podaj DRUGĄ liczbę: 200\n",
            "Wynik dodawania: 300\n",
            "Wynik dodawania: 300\n",
            "Wynik dodawania 100 + 200 = 300\n"
          ],
          "name": "stdout"
        }
      ]
    }
  ]
}