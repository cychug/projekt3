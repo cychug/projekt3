{
  "nbformat": 4,
  "nbformat_minor": 0,
  "metadata": {
    "colab": {
      "name": "Prosty kalkulator.ipynb",
      "provenance": [],
      "collapsed_sections": [],
      "authorship_tag": "ABX9TyN9ZWWAoOuM+KAi2d+GZPsA",
      "include_colab_link": true
    },
    "kernelspec": {
      "name": "Python 3.9.0 64-bit",
      "display_name": "Python 3.9.0 64-bit",
      "metadata": {
        "interpreter": {
          "hash": "7812ea015bdcee6f23a998adcdd2ef97c151c0c241b7b7070987d9313e41299d"
        }
      }
    }
  },
  "cells": [
    {
      "cell_type": "code",
      "metadata": {
        "id": "dTqwEw3Wt6MF",
        "outputId": "e9c34aef-e297-4a57-d43e-d9776e4050b3",
        "colab": {
          "base_uri": "https://localhost:8080/"
        }
      },
      "source": [
        "print(\"KALKULATOR KTÓRY TYLKO DODAJE\")\n",
        "a = int(input(\"Podaj pierwszą liczbę: \"))       # rzutowanie - zmiana typu z jednego na drugi, w tym przypadku\n",
        "b = int(input(\"Podaj DRUGĄ liczbę: \"))          # że wprowadzamy liczbę b = int(input())\n",
        "\n",
        "print(\"Wynik dodawania: \" + str(a + b))         # tu jest rzutowanie czyli mówimy, że\n",
        "print(\"Wynik dodawania:\", a + b)                # tu jeszcze bardziej uprościłem wstawiając przecinek. Dodakowo pojawi się też spacja\n",
        "print(\"Wynik dodawania\", a, \"+\", b, \"=\", a + b)"
      ],
      "execution_count": 2,
      "outputs": [
        {
          "output_type": "stream",
          "name": "stdout",
          "text": [
            "KALKULATOR KTÓRY TYLKO DODAJE\n",
            "Wynik dodawania: 300\n",
            "Wynik dodawania: 300\n",
            "Wynik dodawania 200 + 100 = 300\n"
          ]
        }
      ]
    }
  ]
}